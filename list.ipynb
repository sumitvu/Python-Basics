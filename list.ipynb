{
 "cells": [
  {
   "cell_type": "code",
   "execution_count": null,
   "metadata": {},
   "outputs": [],
   "source": [
    "# Syntax of list iterating through: mylist[from : to(excluded) : step(optional)]\n",
    "# Lists are ordered.\n",
    "# Lists can contain any arbitrary objects.\n",
    "# List elements can be accessed by index.\n",
    "# Lists can be nested to arbitrary depth.\n",
    "# Lists are mutable.\n",
    "# Lists are dynamic."
   ]
  }
 ],
 "metadata": {
  "kernelspec": {
   "display_name": "Python 3",
   "language": "python",
   "name": "python3"
  },
  "language_info": {
   "codemirror_mode": {
    "name": "ipython",
    "version": 3
   },
   "file_extension": ".py",
   "mimetype": "text/x-python",
   "name": "python",
   "nbconvert_exporter": "python",
   "pygments_lexer": "ipython3",
   "version": "3.7.1"
  }
 },
 "nbformat": 4,
 "nbformat_minor": 2
}
